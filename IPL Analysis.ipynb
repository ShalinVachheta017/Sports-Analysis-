{
  "cells": [
    {
      "cell_type": "markdown",
      "metadata": {
        "id": "D4pi4dRNgL8n"
      },
      "source": [
        "# IPL matches from 2008 to 2019\n",
        "\n",
        "This dataset is having information about cricket matches in IPL from 2008 to 2019 ,also has data about where the each match happened ,which team won, who is player of the match and many more.By applying python libraries we will evaluate data of this dataset and see the insights in graph form as well as we will show the summary of whole data  at the end of this project  "
      ]
    },
    {
      "cell_type": "markdown",
      "metadata": {
        "id": "Wy_FKUl1gL8s"
      },
      "source": [
        "### How to run the code\n",
        "\n",
        "This is an executable [*Jupyter notebook*](https://jupyter.org) hosted on [Jovian.ml](https://www.jovian.ml), a platform for sharing data science projects. You can run and experiment with the code in a couple of ways: *using free online resources* (recommended) or *on your own computer*.\n",
        "\n",
        "#### Option 1: Running using free online resources (1-click, recommended)\n",
        "\n",
        "The easiest way to start executing this notebook is to click the \"Run\" button at the top of this page, and select \"Run on Binder\". This will run the notebook on [mybinder.org](https://mybinder.org), a free online service for running Jupyter notebooks. You can also select \"Run on Colab\" or \"Run on Kaggle\".\n",
        "\n",
        "\n",
        "#### Option 2: Running on your computer locally\n",
        "\n",
        "1. Install Conda by [following these instructions](https://conda.io/projects/conda/en/latest/user-guide/install/index.html). Add Conda binaries to your system `PATH`, so you can use the `conda` command on your terminal.\n",
        "\n",
        "2. Create a Conda environment and install the required libraries by running these commands on the terminal:\n",
        "\n",
        "```\n",
        "conda create -n zerotopandas -y python=3.8\n",
        "conda activate zerotopandas\n",
        "pip install jovian jupyter numpy pandas matplotlib seaborn opendatasets --upgrade\n",
        "```\n",
        "\n",
        "3. Press the \"Clone\" button above to copy the command for downloading the notebook, and run it on the terminal. This will create a new directory and download the notebook. The command will look something like this:\n",
        "\n",
        "```\n",
        "jovian clone notebook-owner/notebook-id\n",
        "```\n",
        "\n",
        "\n",
        "\n",
        "4. Enter the newly created directory using `cd directory-name` and start the Jupyter notebook.\n",
        "\n",
        "```\n",
        "jupyter notebook\n",
        "```\n",
        "\n",
        "You can now access Jupyter's web interface by clicking the link that shows up on the terminal or by visiting http://localhost:8888 on your browser. Click on the notebook file (it has a `.ipynb` extension) to open it.\n"
      ]
    },
    {
      "cell_type": "markdown",
      "metadata": {
        "id": "j7YT1jcogL8u"
      },
      "source": [
        "## Downloading the Dataset\n",
        "\n",
        "**TODO** - add some explanation here"
      ]
    },
    {
      "cell_type": "markdown",
      "metadata": {
        "id": "kqAnfnsogL8u"
      },
      "source": [
        "> Instructions for downloading the dataset (delete this cell)\n",
        ">\n",
        "> - Find an interesting dataset on this page: https://www.kaggle.com/datasets?fileType=csv\n",
        "> - The data should be in CSV format, and should contain at least 3 columns and 150 rows\n",
        "> - Download the dataset using the [`opendatasets` Python library](https://github.com/JovianML/opendatasets#opendatasets)"
      ]
    },
    {
      "cell_type": "code",
      "execution_count": null,
      "metadata": {
        "id": "iZAikFVIgL8v"
      },
      "outputs": [],
      "source": [
        "!pip install jovian opendatasets --upgrade --quiet"
      ]
    },
    {
      "cell_type": "markdown",
      "metadata": {
        "id": "_mV-ohTvgL8w"
      },
      "source": [
        "Let's begin by downloading the data, and listing the files within the dataset."
      ]
    },
    {
      "cell_type": "code",
      "execution_count": null,
      "metadata": {
        "id": "AqpXEChrgL8w"
      },
      "outputs": [],
      "source": [
        "\n",
        "dataset_url = 'https://www.kaggle.com/datasets/nowke9/ipldata'"
      ]
    },
    {
      "cell_type": "code",
      "execution_count": null,
      "metadata": {
        "id": "BfLiPemcgL8w",
        "outputId": "c0fa0135-57b9-4b85-812f-ffa01560c371"
      },
      "outputs": [
        {
          "name": "stdout",
          "output_type": "stream",
          "text": [
            "Skipping, found downloaded files in \"./ipldata\" (use force=True to force download)\n"
          ]
        }
      ],
      "source": [
        "import opendatasets as od\n",
        "od.download(dataset_url)"
      ]
    },
    {
      "cell_type": "markdown",
      "metadata": {
        "id": "4sX7xSQLgL8x"
      },
      "source": [
        "The dataset has been downloaded and extracted."
      ]
    },
    {
      "cell_type": "code",
      "execution_count": null,
      "metadata": {
        "id": "1hURAKVjgL8y"
      },
      "outputs": [],
      "source": [
        "\n",
        "data_dir = './ipldata'"
      ]
    },
    {
      "cell_type": "code",
      "execution_count": null,
      "metadata": {
        "id": "jsXl02qUgL8y",
        "outputId": "e91afd3e-e74a-4c0e-c188-8306dbc9b135"
      },
      "outputs": [
        {
          "data": {
            "text/plain": [
              "['deliveries.csv', 'matches.csv']"
            ]
          },
          "execution_count": 82,
          "metadata": {},
          "output_type": "execute_result"
        }
      ],
      "source": [
        "import os\n",
        "os.listdir(data_dir)"
      ]
    },
    {
      "cell_type": "markdown",
      "metadata": {
        "id": "IXI4lUf8gL8y"
      },
      "source": [
        "Let us save and upload our work to Jovian before continuing."
      ]
    },
    {
      "cell_type": "code",
      "execution_count": null,
      "metadata": {
        "id": "vcqVszDdgL8y"
      },
      "outputs": [],
      "source": [
        "project_name = \"ipl_matches_from_2008_to_2019_sln\""
      ]
    },
    {
      "cell_type": "code",
      "execution_count": null,
      "metadata": {
        "id": "jGvRUo7vgL8z"
      },
      "outputs": [],
      "source": [
        "!pip install jovian --upgrade -q"
      ]
    },
    {
      "cell_type": "code",
      "execution_count": null,
      "metadata": {
        "id": "aZ-iiTBAgL8z"
      },
      "outputs": [],
      "source": [
        "import jovian"
      ]
    },
    {
      "cell_type": "code",
      "execution_count": null,
      "metadata": {
        "id": "RX8NzrlRgL8z",
        "outputId": "fd0857a9-fb35-447f-a4d8-667f718af529"
      },
      "outputs": [
        {
          "data": {
            "application/javascript": [
              "window.require && require([\"base/js/namespace\"],function(Jupyter){Jupyter.notebook.save_checkpoint()})"
            ],
            "text/plain": [
              "<IPython.core.display.Javascript object>"
            ]
          },
          "metadata": {},
          "output_type": "display_data"
        },
        {
          "name": "stdout",
          "output_type": "stream",
          "text": [
            "[jovian] Updating notebook \"shalinvachheta42/ipl-matches-from-2008-to-2019-sln\" on https://jovian.ai\u001b[0m\n",
            "[jovian] Committed successfully! https://jovian.ai/shalinvachheta42/ipl-matches-from-2008-to-2019-sln\u001b[0m\n"
          ]
        },
        {
          "data": {
            "text/plain": [
              "'https://jovian.ai/shalinvachheta42/ipl-matches-from-2008-to-2019-sln'"
            ]
          },
          "execution_count": 86,
          "metadata": {},
          "output_type": "execute_result"
        }
      ],
      "source": [
        "jovian.commit(project=project_name)"
      ]
    },
    {
      "cell_type": "markdown",
      "metadata": {
        "id": "yI_u4G1hgL8z"
      },
      "source": [
        "## Data Preparation and Cleaning\n",
        "\n",
        "**just clearing my dataset and understanding it in more better way.**\n",
        "\n"
      ]
    },
    {
      "cell_type": "code",
      "execution_count": null,
      "metadata": {
        "id": "D60RWDJegL80"
      },
      "outputs": [],
      "source": [
        "import pandas as pd\n",
        "import numpy as np\n"
      ]
    },
    {
      "cell_type": "code",
      "execution_count": null,
      "metadata": {
        "id": "F3L0NtovgL80",
        "outputId": "fcc22134-66fc-4fad-fa8c-4fc6f2e16b59"
      },
      "outputs": [
        {
          "data": {
            "text/html": [
              "<div>\n",
              "<style scoped>\n",
              "    .dataframe tbody tr th:only-of-type {\n",
              "        vertical-align: middle;\n",
              "    }\n",
              "\n",
              "    .dataframe tbody tr th {\n",
              "        vertical-align: top;\n",
              "    }\n",
              "\n",
              "    .dataframe thead th {\n",
              "        text-align: right;\n",
              "    }\n",
              "</style>\n",
              "<table border=\"1\" class=\"dataframe\">\n",
              "  <thead>\n",
              "    <tr style=\"text-align: right;\">\n",
              "      <th></th>\n",
              "      <th>id</th>\n",
              "      <th>season</th>\n",
              "      <th>city</th>\n",
              "      <th>date</th>\n",
              "      <th>team1</th>\n",
              "      <th>team2</th>\n",
              "      <th>toss_winner</th>\n",
              "      <th>toss_decision</th>\n",
              "      <th>result</th>\n",
              "      <th>dl_applied</th>\n",
              "      <th>winner</th>\n",
              "      <th>win_by_runs</th>\n",
              "      <th>win_by_wickets</th>\n",
              "      <th>player_of_match</th>\n",
              "      <th>venue</th>\n",
              "      <th>umpire1</th>\n",
              "      <th>umpire2</th>\n",
              "      <th>umpire3</th>\n",
              "    </tr>\n",
              "  </thead>\n",
              "  <tbody>\n",
              "    <tr>\n",
              "      <th>0</th>\n",
              "      <td>1</td>\n",
              "      <td>2017</td>\n",
              "      <td>Hyderabad</td>\n",
              "      <td>2017-04-05</td>\n",
              "      <td>Sunrisers Hyderabad</td>\n",
              "      <td>Royal Challengers Bangalore</td>\n",
              "      <td>Royal Challengers Bangalore</td>\n",
              "      <td>field</td>\n",
              "      <td>normal</td>\n",
              "      <td>0</td>\n",
              "      <td>Sunrisers Hyderabad</td>\n",
              "      <td>35</td>\n",
              "      <td>0</td>\n",
              "      <td>Yuvraj Singh</td>\n",
              "      <td>Rajiv Gandhi International Stadium, Uppal</td>\n",
              "      <td>AY Dandekar</td>\n",
              "      <td>NJ Llong</td>\n",
              "      <td>NaN</td>\n",
              "    </tr>\n",
              "    <tr>\n",
              "      <th>1</th>\n",
              "      <td>2</td>\n",
              "      <td>2017</td>\n",
              "      <td>Pune</td>\n",
              "      <td>2017-04-06</td>\n",
              "      <td>Mumbai Indians</td>\n",
              "      <td>Rising Pune Supergiant</td>\n",
              "      <td>Rising Pune Supergiant</td>\n",
              "      <td>field</td>\n",
              "      <td>normal</td>\n",
              "      <td>0</td>\n",
              "      <td>Rising Pune Supergiant</td>\n",
              "      <td>0</td>\n",
              "      <td>7</td>\n",
              "      <td>SPD Smith</td>\n",
              "      <td>Maharashtra Cricket Association Stadium</td>\n",
              "      <td>A Nand Kishore</td>\n",
              "      <td>S Ravi</td>\n",
              "      <td>NaN</td>\n",
              "    </tr>\n",
              "    <tr>\n",
              "      <th>2</th>\n",
              "      <td>3</td>\n",
              "      <td>2017</td>\n",
              "      <td>Rajkot</td>\n",
              "      <td>2017-04-07</td>\n",
              "      <td>Gujarat Lions</td>\n",
              "      <td>Kolkata Knight Riders</td>\n",
              "      <td>Kolkata Knight Riders</td>\n",
              "      <td>field</td>\n",
              "      <td>normal</td>\n",
              "      <td>0</td>\n",
              "      <td>Kolkata Knight Riders</td>\n",
              "      <td>0</td>\n",
              "      <td>10</td>\n",
              "      <td>CA Lynn</td>\n",
              "      <td>Saurashtra Cricket Association Stadium</td>\n",
              "      <td>Nitin Menon</td>\n",
              "      <td>CK Nandan</td>\n",
              "      <td>NaN</td>\n",
              "    </tr>\n",
              "    <tr>\n",
              "      <th>3</th>\n",
              "      <td>4</td>\n",
              "      <td>2017</td>\n",
              "      <td>Indore</td>\n",
              "      <td>2017-04-08</td>\n",
              "      <td>Rising Pune Supergiant</td>\n",
              "      <td>Kings XI Punjab</td>\n",
              "      <td>Kings XI Punjab</td>\n",
              "      <td>field</td>\n",
              "      <td>normal</td>\n",
              "      <td>0</td>\n",
              "      <td>Kings XI Punjab</td>\n",
              "      <td>0</td>\n",
              "      <td>6</td>\n",
              "      <td>GJ Maxwell</td>\n",
              "      <td>Holkar Cricket Stadium</td>\n",
              "      <td>AK Chaudhary</td>\n",
              "      <td>C Shamshuddin</td>\n",
              "      <td>NaN</td>\n",
              "    </tr>\n",
              "    <tr>\n",
              "      <th>4</th>\n",
              "      <td>5</td>\n",
              "      <td>2017</td>\n",
              "      <td>Bangalore</td>\n",
              "      <td>2017-04-08</td>\n",
              "      <td>Royal Challengers Bangalore</td>\n",
              "      <td>Delhi Daredevils</td>\n",
              "      <td>Royal Challengers Bangalore</td>\n",
              "      <td>bat</td>\n",
              "      <td>normal</td>\n",
              "      <td>0</td>\n",
              "      <td>Royal Challengers Bangalore</td>\n",
              "      <td>15</td>\n",
              "      <td>0</td>\n",
              "      <td>KM Jadhav</td>\n",
              "      <td>M Chinnaswamy Stadium</td>\n",
              "      <td>NaN</td>\n",
              "      <td>NaN</td>\n",
              "      <td>NaN</td>\n",
              "    </tr>\n",
              "    <tr>\n",
              "      <th>5</th>\n",
              "      <td>6</td>\n",
              "      <td>2017</td>\n",
              "      <td>Hyderabad</td>\n",
              "      <td>2017-04-09</td>\n",
              "      <td>Gujarat Lions</td>\n",
              "      <td>Sunrisers Hyderabad</td>\n",
              "      <td>Sunrisers Hyderabad</td>\n",
              "      <td>field</td>\n",
              "      <td>normal</td>\n",
              "      <td>0</td>\n",
              "      <td>Sunrisers Hyderabad</td>\n",
              "      <td>0</td>\n",
              "      <td>9</td>\n",
              "      <td>Rashid Khan</td>\n",
              "      <td>Rajiv Gandhi International Stadium, Uppal</td>\n",
              "      <td>A Deshmukh</td>\n",
              "      <td>NJ Llong</td>\n",
              "      <td>NaN</td>\n",
              "    </tr>\n",
              "    <tr>\n",
              "      <th>6</th>\n",
              "      <td>7</td>\n",
              "      <td>2017</td>\n",
              "      <td>Mumbai</td>\n",
              "      <td>2017-04-09</td>\n",
              "      <td>Kolkata Knight Riders</td>\n",
              "      <td>Mumbai Indians</td>\n",
              "      <td>Mumbai Indians</td>\n",
              "      <td>field</td>\n",
              "      <td>normal</td>\n",
              "      <td>0</td>\n",
              "      <td>Mumbai Indians</td>\n",
              "      <td>0</td>\n",
              "      <td>4</td>\n",
              "      <td>N Rana</td>\n",
              "      <td>Wankhede Stadium</td>\n",
              "      <td>Nitin Menon</td>\n",
              "      <td>CK Nandan</td>\n",
              "      <td>NaN</td>\n",
              "    </tr>\n",
              "    <tr>\n",
              "      <th>7</th>\n",
              "      <td>8</td>\n",
              "      <td>2017</td>\n",
              "      <td>Indore</td>\n",
              "      <td>2017-04-10</td>\n",
              "      <td>Royal Challengers Bangalore</td>\n",
              "      <td>Kings XI Punjab</td>\n",
              "      <td>Royal Challengers Bangalore</td>\n",
              "      <td>bat</td>\n",
              "      <td>normal</td>\n",
              "      <td>0</td>\n",
              "      <td>Kings XI Punjab</td>\n",
              "      <td>0</td>\n",
              "      <td>8</td>\n",
              "      <td>AR Patel</td>\n",
              "      <td>Holkar Cricket Stadium</td>\n",
              "      <td>AK Chaudhary</td>\n",
              "      <td>C Shamshuddin</td>\n",
              "      <td>NaN</td>\n",
              "    </tr>\n",
              "    <tr>\n",
              "      <th>8</th>\n",
              "      <td>9</td>\n",
              "      <td>2017</td>\n",
              "      <td>Pune</td>\n",
              "      <td>2017-04-11</td>\n",
              "      <td>Delhi Daredevils</td>\n",
              "      <td>Rising Pune Supergiant</td>\n",
              "      <td>Rising Pune Supergiant</td>\n",
              "      <td>field</td>\n",
              "      <td>normal</td>\n",
              "      <td>0</td>\n",
              "      <td>Delhi Daredevils</td>\n",
              "      <td>97</td>\n",
              "      <td>0</td>\n",
              "      <td>SV Samson</td>\n",
              "      <td>Maharashtra Cricket Association Stadium</td>\n",
              "      <td>AY Dandekar</td>\n",
              "      <td>S Ravi</td>\n",
              "      <td>NaN</td>\n",
              "    </tr>\n",
              "    <tr>\n",
              "      <th>9</th>\n",
              "      <td>10</td>\n",
              "      <td>2017</td>\n",
              "      <td>Mumbai</td>\n",
              "      <td>2017-04-12</td>\n",
              "      <td>Sunrisers Hyderabad</td>\n",
              "      <td>Mumbai Indians</td>\n",
              "      <td>Mumbai Indians</td>\n",
              "      <td>field</td>\n",
              "      <td>normal</td>\n",
              "      <td>0</td>\n",
              "      <td>Mumbai Indians</td>\n",
              "      <td>0</td>\n",
              "      <td>4</td>\n",
              "      <td>JJ Bumrah</td>\n",
              "      <td>Wankhede Stadium</td>\n",
              "      <td>Nitin Menon</td>\n",
              "      <td>CK Nandan</td>\n",
              "      <td>NaN</td>\n",
              "    </tr>\n",
              "  </tbody>\n",
              "</table>\n",
              "</div>"
            ],
            "text/plain": [
              "   id  season       city        date                        team1  \\\n",
              "0   1    2017  Hyderabad  2017-04-05          Sunrisers Hyderabad   \n",
              "1   2    2017       Pune  2017-04-06               Mumbai Indians   \n",
              "2   3    2017     Rajkot  2017-04-07                Gujarat Lions   \n",
              "3   4    2017     Indore  2017-04-08       Rising Pune Supergiant   \n",
              "4   5    2017  Bangalore  2017-04-08  Royal Challengers Bangalore   \n",
              "5   6    2017  Hyderabad  2017-04-09                Gujarat Lions   \n",
              "6   7    2017     Mumbai  2017-04-09        Kolkata Knight Riders   \n",
              "7   8    2017     Indore  2017-04-10  Royal Challengers Bangalore   \n",
              "8   9    2017       Pune  2017-04-11             Delhi Daredevils   \n",
              "9  10    2017     Mumbai  2017-04-12          Sunrisers Hyderabad   \n",
              "\n",
              "                         team2                  toss_winner toss_decision  \\\n",
              "0  Royal Challengers Bangalore  Royal Challengers Bangalore         field   \n",
              "1       Rising Pune Supergiant       Rising Pune Supergiant         field   \n",
              "2        Kolkata Knight Riders        Kolkata Knight Riders         field   \n",
              "3              Kings XI Punjab              Kings XI Punjab         field   \n",
              "4             Delhi Daredevils  Royal Challengers Bangalore           bat   \n",
              "5          Sunrisers Hyderabad          Sunrisers Hyderabad         field   \n",
              "6               Mumbai Indians               Mumbai Indians         field   \n",
              "7              Kings XI Punjab  Royal Challengers Bangalore           bat   \n",
              "8       Rising Pune Supergiant       Rising Pune Supergiant         field   \n",
              "9               Mumbai Indians               Mumbai Indians         field   \n",
              "\n",
              "   result  dl_applied                       winner  win_by_runs  \\\n",
              "0  normal           0          Sunrisers Hyderabad           35   \n",
              "1  normal           0       Rising Pune Supergiant            0   \n",
              "2  normal           0        Kolkata Knight Riders            0   \n",
              "3  normal           0              Kings XI Punjab            0   \n",
              "4  normal           0  Royal Challengers Bangalore           15   \n",
              "5  normal           0          Sunrisers Hyderabad            0   \n",
              "6  normal           0               Mumbai Indians            0   \n",
              "7  normal           0              Kings XI Punjab            0   \n",
              "8  normal           0             Delhi Daredevils           97   \n",
              "9  normal           0               Mumbai Indians            0   \n",
              "\n",
              "   win_by_wickets player_of_match                                      venue  \\\n",
              "0               0    Yuvraj Singh  Rajiv Gandhi International Stadium, Uppal   \n",
              "1               7       SPD Smith    Maharashtra Cricket Association Stadium   \n",
              "2              10         CA Lynn     Saurashtra Cricket Association Stadium   \n",
              "3               6      GJ Maxwell                     Holkar Cricket Stadium   \n",
              "4               0       KM Jadhav                      M Chinnaswamy Stadium   \n",
              "5               9     Rashid Khan  Rajiv Gandhi International Stadium, Uppal   \n",
              "6               4          N Rana                           Wankhede Stadium   \n",
              "7               8        AR Patel                     Holkar Cricket Stadium   \n",
              "8               0       SV Samson    Maharashtra Cricket Association Stadium   \n",
              "9               4       JJ Bumrah                           Wankhede Stadium   \n",
              "\n",
              "          umpire1        umpire2 umpire3  \n",
              "0     AY Dandekar       NJ Llong     NaN  \n",
              "1  A Nand Kishore         S Ravi     NaN  \n",
              "2     Nitin Menon      CK Nandan     NaN  \n",
              "3    AK Chaudhary  C Shamshuddin     NaN  \n",
              "4             NaN            NaN     NaN  \n",
              "5      A Deshmukh       NJ Llong     NaN  \n",
              "6     Nitin Menon      CK Nandan     NaN  \n",
              "7    AK Chaudhary  C Shamshuddin     NaN  \n",
              "8     AY Dandekar         S Ravi     NaN  \n",
              "9     Nitin Menon      CK Nandan     NaN  "
            ]
          },
          "execution_count": 88,
          "metadata": {},
          "output_type": "execute_result"
        }
      ],
      "source": [
        "ipl_df = pd.read_csv('ipldata/matches.csv')\n",
        "ipl_df.head(10)\n"
      ]
    },
    {
      "cell_type": "code",
      "execution_count": null,
      "metadata": {
        "id": "GfvFae69gL80",
        "outputId": "ab5c710b-f0b1-455e-b525-c6ea7848490d"
      },
      "outputs": [
        {
          "data": {
            "text/plain": [
              "Index(['id', 'season', 'city', 'date', 'team1', 'team2', 'toss_winner',\n",
              "       'toss_decision', 'result', 'dl_applied', 'winner', 'win_by_runs',\n",
              "       'win_by_wickets', 'player_of_match', 'venue', 'umpire1', 'umpire2',\n",
              "       'umpire3'],\n",
              "      dtype='object')"
            ]
          },
          "execution_count": 89,
          "metadata": {},
          "output_type": "execute_result"
        }
      ],
      "source": [
        "ipl_df.columns"
      ]
    },
    {
      "cell_type": "markdown",
      "metadata": {
        "id": "u58fo-EcgL80"
      },
      "source": [
        " ###### to know how many matches played in given years"
      ]
    },
    {
      "cell_type": "code",
      "execution_count": null,
      "metadata": {
        "id": "QSPWIt2egL80",
        "outputId": "bcf2f8c7-e3b6-4d07-eeb8-4759e22e4c32"
      },
      "outputs": [
        {
          "data": {
            "text/plain": [
              "756"
            ]
          },
          "execution_count": 90,
          "metadata": {},
          "output_type": "execute_result"
        }
      ],
      "source": [
        "total_matches =len(ipl_df)\n",
        "total_matches"
      ]
    },
    {
      "cell_type": "code",
      "execution_count": null,
      "metadata": {
        "scrolled": true,
        "id": "rvNWRcBegL81",
        "outputId": "d9402770-c4d3-4524-b0b1-88dfb716878c"
      },
      "outputs": [
        {
          "data": {
            "text/plain": [
              "(756, 18)"
            ]
          },
          "execution_count": 91,
          "metadata": {},
          "output_type": "execute_result"
        }
      ],
      "source": [
        "ipl_df.shape"
      ]
    },
    {
      "cell_type": "code",
      "execution_count": null,
      "metadata": {
        "id": "wRntlUg_gL81",
        "outputId": "f5f4ec28-7e96-45ca-aa20-4f97546431a2"
      },
      "outputs": [
        {
          "name": "stdout",
          "output_type": "stream",
          "text": [
            "Only 19 times dl has been applied in  whole time in matches\n"
          ]
        }
      ],
      "source": [
        "#non zero counting in dl applied column\n",
        "count = (ipl_df.dl_applied != 0).sum()\n",
        "print('Only {} times dl has been applied in  whole time in matches'.format( count))"
      ]
    },
    {
      "cell_type": "markdown",
      "metadata": {
        "id": "qtFn90BngL81"
      },
      "source": [
        "#### to know how many teams were in IPL matches over the years"
      ]
    },
    {
      "cell_type": "code",
      "execution_count": null,
      "metadata": {
        "id": "3ErImcwZgL81",
        "outputId": "841a8644-b3cc-4a3d-a940-e0692c674432"
      },
      "outputs": [
        {
          "data": {
            "text/plain": [
              "array(['Sunrisers Hyderabad', 'Mumbai Indians', 'Gujarat Lions',\n",
              "       'Rising Pune Supergiant', 'Royal Challengers Bangalore',\n",
              "       'Kolkata Knight Riders', 'Delhi Daredevils', 'Kings XI Punjab',\n",
              "       'Chennai Super Kings', 'Rajasthan Royals', 'Deccan Chargers',\n",
              "       'Kochi Tuskers Kerala', 'Pune Warriors', 'Rising Pune Supergiants',\n",
              "       'Delhi Capitals'], dtype=object)"
            ]
          },
          "execution_count": 93,
          "metadata": {},
          "output_type": "execute_result"
        }
      ],
      "source": [
        "total_teams = ipl_df[\"team1\"].unique()\n",
        "total_teams\n"
      ]
    },
    {
      "cell_type": "code",
      "execution_count": null,
      "metadata": {
        "id": "IwG-zAxfgL81",
        "outputId": "40b403f5-7e9c-4661-c643-27d5b5efae5f"
      },
      "outputs": [
        {
          "name": "stdout",
          "output_type": "stream",
          "text": [
            "15\n",
            "15\n",
            "101\n",
            "86\n",
            "14\n",
            "16\n"
          ]
        }
      ],
      "source": [
        "print(ipl_df.team1.str.count('Rising Pune Supergiant').sum())\n",
        "print(ipl_df.team2.str.count('Rising Pune Supergiant').sum())\n",
        "print(ipl_df.team1.str.count('Mumbai Indians').sum())\n",
        "print(ipl_df.team2.str.count('Mumbai Indians').sum())\n",
        "print(ipl_df.team1.str.count('Gujarat Lions').sum())\n",
        "print(ipl_df.team2.str.count('Gujarat Lions').sum())\n",
        "\n",
        "\n",
        "#to understand ....team counts are same in both the sides(because each season they have equal matches\n",
        "#despite of winning rate that affects of number of a team match in a perticular season)"
      ]
    },
    {
      "cell_type": "code",
      "execution_count": null,
      "metadata": {
        "id": "XsGFXUUEgL82",
        "outputId": "2237c7df-f248-4137-b6d5-aadec048bab0"
      },
      "outputs": [
        {
          "data": {
            "text/plain": [
              "id                   0\n",
              "season               0\n",
              "city                 7\n",
              "date                 0\n",
              "team1                0\n",
              "team2                0\n",
              "toss_winner          0\n",
              "toss_decision        0\n",
              "result               0\n",
              "dl_applied           0\n",
              "winner               4\n",
              "win_by_runs          0\n",
              "win_by_wickets       0\n",
              "player_of_match      4\n",
              "venue                0\n",
              "umpire1              2\n",
              "umpire2              2\n",
              "umpire3            637\n",
              "dtype: int64"
            ]
          },
          "execution_count": 95,
          "metadata": {},
          "output_type": "execute_result"
        }
      ],
      "source": [
        "ipl_df.isnull().sum()"
      ]
    },
    {
      "cell_type": "markdown",
      "metadata": {
        "id": "WMMTKjz7gL82"
      },
      "source": [
        "inside fact :So,interstingly in most of matches 3rd umpire was not there on record"
      ]
    },
    {
      "cell_type": "markdown",
      "metadata": {
        "id": "Wr83vckZgL82"
      },
      "source": [
        "##### so now onward we will use only one column in our project for finding answers and insights"
      ]
    },
    {
      "cell_type": "code",
      "execution_count": null,
      "metadata": {
        "id": "xCk6y_KqgL82"
      },
      "outputs": [],
      "source": [
        "import jovian"
      ]
    },
    {
      "cell_type": "code",
      "execution_count": null,
      "metadata": {
        "id": "I3RVxPYDgL83",
        "outputId": "9f57d7e8-2c8b-4591-9474-755ac22757a9"
      },
      "outputs": [
        {
          "data": {
            "application/javascript": [
              "window.require && require([\"base/js/namespace\"],function(Jupyter){Jupyter.notebook.save_checkpoint()})"
            ],
            "text/plain": [
              "<IPython.core.display.Javascript object>"
            ]
          },
          "metadata": {},
          "output_type": "display_data"
        },
        {
          "name": "stdout",
          "output_type": "stream",
          "text": [
            "[jovian] Updating notebook \"shalinvachheta42/ipl-matches-from-2008-to-2019-sln\" on https://jovian.ai\u001b[0m\n",
            "[jovian] Committed successfully! https://jovian.ai/shalinvachheta42/ipl-matches-from-2008-to-2019-sln\u001b[0m\n"
          ]
        },
        {
          "data": {
            "text/plain": [
              "'https://jovian.ai/shalinvachheta42/ipl-matches-from-2008-to-2019-sln'"
            ]
          },
          "execution_count": 97,
          "metadata": {},
          "output_type": "execute_result"
        }
      ],
      "source": [
        "jovian.commit()"
      ]
    },
    {
      "cell_type": "markdown",
      "metadata": {
        "id": "uYFwDQnzgL83"
      },
      "source": [
        "## Asking and Answering Questions\n",
        "\n",
        "\n",
        "#### i have mixed up two parts those are Asking and Answering Questions and Exploratory Analysis and Visualization for better understanding of asking/required task and use some same cases in both to get answers from both side(ans and visualize)\n",
        "\n",
        "\n"
      ]
    },
    {
      "cell_type": "markdown",
      "metadata": {
        "id": "75ZgStzBgL83"
      },
      "source": [
        "Let's begin by importing`matplotlib.pyplot` and `seaborn`."
      ]
    },
    {
      "cell_type": "code",
      "execution_count": null,
      "metadata": {
        "id": "BLn7YjlNgL83"
      },
      "outputs": [],
      "source": [
        "import seaborn as sns\n",
        "import matplotlib\n",
        "import matplotlib.pyplot as plt\n",
        "%matplotlib inline\n",
        "\n",
        "sns.set_style('darkgrid')\n",
        "matplotlib.rcParams['font.size'] = 14\n",
        "matplotlib.rcParams['figure.figsize'] = (9, 5)\n",
        "matplotlib.rcParams['figure.facecolor'] = '#00000000'"
      ]
    },
    {
      "cell_type": "markdown",
      "metadata": {
        "id": "wlZUTl_ogL84"
      },
      "source": [
        "## task\n",
        "\n",
        "1. win by runs n wickets\n",
        "2.toss decison\n",
        "3. how many matches played in india\n",
        "4. top player of the match\n",
        "5.most matches played in a vanue\n",
        "6.\n"
      ]
    },
    {
      "cell_type": "code",
      "execution_count": null,
      "metadata": {
        "id": "KUT62TD-gL84",
        "outputId": "52448fcc-790f-46b7-ef99-3d585c044a23"
      },
      "outputs": [
        {
          "data": {
            "text/html": [
              "<div>\n",
              "<style scoped>\n",
              "    .dataframe tbody tr th:only-of-type {\n",
              "        vertical-align: middle;\n",
              "    }\n",
              "\n",
              "    .dataframe tbody tr th {\n",
              "        vertical-align: top;\n",
              "    }\n",
              "\n",
              "    .dataframe thead th {\n",
              "        text-align: right;\n",
              "    }\n",
              "</style>\n",
              "<table border=\"1\" class=\"dataframe\">\n",
              "  <thead>\n",
              "    <tr style=\"text-align: right;\">\n",
              "      <th></th>\n",
              "      <th>id</th>\n",
              "      <th>season</th>\n",
              "      <th>city</th>\n",
              "      <th>date</th>\n",
              "      <th>team1</th>\n",
              "      <th>team2</th>\n",
              "      <th>toss_winner</th>\n",
              "      <th>toss_decision</th>\n",
              "      <th>result</th>\n",
              "      <th>dl_applied</th>\n",
              "      <th>winner</th>\n",
              "      <th>win_by_runs</th>\n",
              "      <th>win_by_wickets</th>\n",
              "      <th>player_of_match</th>\n",
              "      <th>venue</th>\n",
              "      <th>umpire1</th>\n",
              "      <th>umpire2</th>\n",
              "      <th>umpire3</th>\n",
              "    </tr>\n",
              "  </thead>\n",
              "  <tbody>\n",
              "    <tr>\n",
              "      <th>0</th>\n",
              "      <td>1</td>\n",
              "      <td>2017</td>\n",
              "      <td>Hyderabad</td>\n",
              "      <td>2017-04-05</td>\n",
              "      <td>Sunrisers Hyderabad</td>\n",
              "      <td>Royal Challengers Bangalore</td>\n",
              "      <td>Royal Challengers Bangalore</td>\n",
              "      <td>field</td>\n",
              "      <td>normal</td>\n",
              "      <td>0</td>\n",
              "      <td>Sunrisers Hyderabad</td>\n",
              "      <td>35</td>\n",
              "      <td>0</td>\n",
              "      <td>Yuvraj Singh</td>\n",
              "      <td>Rajiv Gandhi International Stadium, Uppal</td>\n",
              "      <td>AY Dandekar</td>\n",
              "      <td>NJ Llong</td>\n",
              "      <td>NaN</td>\n",
              "    </tr>\n",
              "    <tr>\n",
              "      <th>1</th>\n",
              "      <td>2</td>\n",
              "      <td>2017</td>\n",
              "      <td>Pune</td>\n",
              "      <td>2017-04-06</td>\n",
              "      <td>Mumbai Indians</td>\n",
              "      <td>Rising Pune Supergiant</td>\n",
              "      <td>Rising Pune Supergiant</td>\n",
              "      <td>field</td>\n",
              "      <td>normal</td>\n",
              "      <td>0</td>\n",
              "      <td>Rising Pune Supergiant</td>\n",
              "      <td>0</td>\n",
              "      <td>7</td>\n",
              "      <td>SPD Smith</td>\n",
              "      <td>Maharashtra Cricket Association Stadium</td>\n",
              "      <td>A Nand Kishore</td>\n",
              "      <td>S Ravi</td>\n",
              "      <td>NaN</td>\n",
              "    </tr>\n",
              "    <tr>\n",
              "      <th>2</th>\n",
              "      <td>3</td>\n",
              "      <td>2017</td>\n",
              "      <td>Rajkot</td>\n",
              "      <td>2017-04-07</td>\n",
              "      <td>Gujarat Lions</td>\n",
              "      <td>Kolkata Knight Riders</td>\n",
              "      <td>Kolkata Knight Riders</td>\n",
              "      <td>field</td>\n",
              "      <td>normal</td>\n",
              "      <td>0</td>\n",
              "      <td>Kolkata Knight Riders</td>\n",
              "      <td>0</td>\n",
              "      <td>10</td>\n",
              "      <td>CA Lynn</td>\n",
              "      <td>Saurashtra Cricket Association Stadium</td>\n",
              "      <td>Nitin Menon</td>\n",
              "      <td>CK Nandan</td>\n",
              "      <td>NaN</td>\n",
              "    </tr>\n",
              "  </tbody>\n",
              "</table>\n",
              "</div>"
            ],
            "text/plain": [
              "   id  season       city        date                team1  \\\n",
              "0   1    2017  Hyderabad  2017-04-05  Sunrisers Hyderabad   \n",
              "1   2    2017       Pune  2017-04-06       Mumbai Indians   \n",
              "2   3    2017     Rajkot  2017-04-07        Gujarat Lions   \n",
              "\n",
              "                         team2                  toss_winner toss_decision  \\\n",
              "0  Royal Challengers Bangalore  Royal Challengers Bangalore         field   \n",
              "1       Rising Pune Supergiant       Rising Pune Supergiant         field   \n",
              "2        Kolkata Knight Riders        Kolkata Knight Riders         field   \n",
              "\n",
              "   result  dl_applied                  winner  win_by_runs  win_by_wickets  \\\n",
              "0  normal           0     Sunrisers Hyderabad           35               0   \n",
              "1  normal           0  Rising Pune Supergiant            0               7   \n",
              "2  normal           0   Kolkata Knight Riders            0              10   \n",
              "\n",
              "  player_of_match                                      venue         umpire1  \\\n",
              "0    Yuvraj Singh  Rajiv Gandhi International Stadium, Uppal     AY Dandekar   \n",
              "1       SPD Smith    Maharashtra Cricket Association Stadium  A Nand Kishore   \n",
              "2         CA Lynn     Saurashtra Cricket Association Stadium     Nitin Menon   \n",
              "\n",
              "     umpire2 umpire3  \n",
              "0   NJ Llong     NaN  \n",
              "1     S Ravi     NaN  \n",
              "2  CK Nandan     NaN  "
            ]
          },
          "execution_count": 99,
          "metadata": {},
          "output_type": "execute_result"
        }
      ],
      "source": [
        "ipl_df.head(3)"
      ]
    },
    {
      "cell_type": "code",
      "execution_count": null,
      "metadata": {
        "id": "dDA7gBcDgL84",
        "outputId": "a8a4190b-0dc6-4b5e-e320-f5ab69316322"
      },
      "outputs": [
        {
          "data": {
            "text/html": [
              "<div>\n",
              "<style scoped>\n",
              "    .dataframe tbody tr th:only-of-type {\n",
              "        vertical-align: middle;\n",
              "    }\n",
              "\n",
              "    .dataframe tbody tr th {\n",
              "        vertical-align: top;\n",
              "    }\n",
              "\n",
              "    .dataframe thead th {\n",
              "        text-align: right;\n",
              "    }\n",
              "</style>\n",
              "<table border=\"1\" class=\"dataframe\">\n",
              "  <thead>\n",
              "    <tr style=\"text-align: right;\">\n",
              "      <th></th>\n",
              "      <th>id</th>\n",
              "      <th>season</th>\n",
              "      <th>dl_applied</th>\n",
              "      <th>win_by_runs</th>\n",
              "      <th>win_by_wickets</th>\n",
              "    </tr>\n",
              "  </thead>\n",
              "  <tbody>\n",
              "    <tr>\n",
              "      <th>count</th>\n",
              "      <td>756.000000</td>\n",
              "      <td>756.000000</td>\n",
              "      <td>756.000000</td>\n",
              "      <td>756.000000</td>\n",
              "      <td>756.000000</td>\n",
              "    </tr>\n",
              "    <tr>\n",
              "      <th>mean</th>\n",
              "      <td>1792.178571</td>\n",
              "      <td>2013.444444</td>\n",
              "      <td>0.025132</td>\n",
              "      <td>13.283069</td>\n",
              "      <td>3.350529</td>\n",
              "    </tr>\n",
              "    <tr>\n",
              "      <th>std</th>\n",
              "      <td>3464.478148</td>\n",
              "      <td>3.366895</td>\n",
              "      <td>0.156630</td>\n",
              "      <td>23.471144</td>\n",
              "      <td>3.387963</td>\n",
              "    </tr>\n",
              "    <tr>\n",
              "      <th>min</th>\n",
              "      <td>1.000000</td>\n",
              "      <td>2008.000000</td>\n",
              "      <td>0.000000</td>\n",
              "      <td>0.000000</td>\n",
              "      <td>0.000000</td>\n",
              "    </tr>\n",
              "    <tr>\n",
              "      <th>25%</th>\n",
              "      <td>189.750000</td>\n",
              "      <td>2011.000000</td>\n",
              "      <td>0.000000</td>\n",
              "      <td>0.000000</td>\n",
              "      <td>0.000000</td>\n",
              "    </tr>\n",
              "    <tr>\n",
              "      <th>50%</th>\n",
              "      <td>378.500000</td>\n",
              "      <td>2013.000000</td>\n",
              "      <td>0.000000</td>\n",
              "      <td>0.000000</td>\n",
              "      <td>4.000000</td>\n",
              "    </tr>\n",
              "    <tr>\n",
              "      <th>75%</th>\n",
              "      <td>567.250000</td>\n",
              "      <td>2016.000000</td>\n",
              "      <td>0.000000</td>\n",
              "      <td>19.000000</td>\n",
              "      <td>6.000000</td>\n",
              "    </tr>\n",
              "    <tr>\n",
              "      <th>max</th>\n",
              "      <td>11415.000000</td>\n",
              "      <td>2019.000000</td>\n",
              "      <td>1.000000</td>\n",
              "      <td>146.000000</td>\n",
              "      <td>10.000000</td>\n",
              "    </tr>\n",
              "  </tbody>\n",
              "</table>\n",
              "</div>"
            ],
            "text/plain": [
              "                 id       season  dl_applied  win_by_runs  win_by_wickets\n",
              "count    756.000000   756.000000  756.000000   756.000000      756.000000\n",
              "mean    1792.178571  2013.444444    0.025132    13.283069        3.350529\n",
              "std     3464.478148     3.366895    0.156630    23.471144        3.387963\n",
              "min        1.000000  2008.000000    0.000000     0.000000        0.000000\n",
              "25%      189.750000  2011.000000    0.000000     0.000000        0.000000\n",
              "50%      378.500000  2013.000000    0.000000     0.000000        4.000000\n",
              "75%      567.250000  2016.000000    0.000000    19.000000        6.000000\n",
              "max    11415.000000  2019.000000    1.000000   146.000000       10.000000"
            ]
          },
          "execution_count": 100,
          "metadata": {},
          "output_type": "execute_result"
        }
      ],
      "source": [
        "ipl_df.describe()"
      ]
    },
    {
      "cell_type": "markdown",
      "metadata": {
        "id": "usF06dwIgL85"
      },
      "source": [
        "**Question 1 - how many teams win by runs or wickets?**\n"
      ]
    },
    {
      "cell_type": "code",
      "execution_count": null,
      "metadata": {
        "id": "Rc61Eg75gL89",
        "outputId": "01741ff5-f0df-4f60-ead2-f02651c3a3cf"
      },
      "outputs": [
        {
          "name": "stdout",
          "output_type": "stream",
          "text": [
            "Count of teams that won by runs is  :  337\n"
          ]
        }
      ],
      "source": [
        "Win_Runs = ipl_df['win_by_runs']\n",
        "RUN = Win_Runs[Win_Runs != 0].count()\n",
        "print('Count of teams that won by runs is  : ', RUN)"
      ]
    },
    {
      "cell_type": "code",
      "execution_count": null,
      "metadata": {
        "id": "FMlaWANGgL89",
        "outputId": "0bdf6837-9536-46b6-8434-ef9eca26c443"
      },
      "outputs": [
        {
          "name": "stdout",
          "output_type": "stream",
          "text": [
            "Count of teams that won by wickets is :  406\n"
          ]
        }
      ],
      "source": [
        "#same for wickets with diffrent approach\n",
        "\n",
        "WICKETS = (ipl_df['win_by_wickets'] != 0).sum()\n",
        "print('Count of teams that won by wickets is : ', WICKETS)\n"
      ]
    },
    {
      "cell_type": "markdown",
      "metadata": {
        "id": "uRdlAh34gL89"
      },
      "source": [
        "**so , count of teams that won by runs is  :  337 And count of teams that won by wickets is :  406**"
      ]
    },
    {
      "cell_type": "markdown",
      "metadata": {
        "id": "xRmh1otygL8-"
      },
      "source": [
        "**question 2 - which are most favorable place to play matches/most played matches in  which cities?**\n",
        "\n",
        "top 5 are shown below"
      ]
    },
    {
      "cell_type": "code",
      "execution_count": null,
      "metadata": {
        "id": "94SRyYI5gL8-",
        "outputId": "c87624cb-33d2-4ebc-cd79-066ea4c4b9ac"
      },
      "outputs": [
        {
          "data": {
            "text/plain": [
              "Mumbai       101\n",
              "Kolkata       77\n",
              "Delhi         74\n",
              "Bangalore     66\n",
              "Hyderabad     64\n",
              "Name: city, dtype: int64"
            ]
          },
          "execution_count": 103,
          "metadata": {},
          "output_type": "execute_result"
        }
      ],
      "source": [
        "#simple trick is using value_counts\n",
        "ipl_df.city.value_counts().head(5)\n"
      ]
    },
    {
      "cell_type": "markdown",
      "metadata": {
        "id": "t5n1lN2MgL8-"
      },
      "source": [
        "small insights :mumbai is sum up of more than a stadium as below when we find venue ; kolkata will take first place"
      ]
    },
    {
      "cell_type": "markdown",
      "metadata": {
        "id": "RM3_4SW6gL8-"
      },
      "source": [
        "Let us save and upload our work to Jovian before continuing"
      ]
    },
    {
      "cell_type": "code",
      "execution_count": null,
      "metadata": {
        "id": "yGAp13m6gL8-"
      },
      "outputs": [],
      "source": [
        "import jovian"
      ]
    },
    {
      "cell_type": "code",
      "execution_count": null,
      "metadata": {
        "id": "-Hk-UdjXgL8_",
        "outputId": "9b3c9fce-c5a6-4df0-d0bd-7cb79a6d0458"
      },
      "outputs": [
        {
          "data": {
            "application/javascript": [
              "window.require && require([\"base/js/namespace\"],function(Jupyter){Jupyter.notebook.save_checkpoint()})"
            ],
            "text/plain": [
              "<IPython.core.display.Javascript object>"
            ]
          },
          "metadata": {},
          "output_type": "display_data"
        },
        {
          "name": "stdout",
          "output_type": "stream",
          "text": [
            "[jovian] Updating notebook \"shalinvachheta42/ipl-matches-from-2008-to-2019-sln\" on https://jovian.ai\u001b[0m\n",
            "[jovian] Committed successfully! https://jovian.ai/shalinvachheta42/ipl-matches-from-2008-to-2019-sln\u001b[0m\n"
          ]
        },
        {
          "data": {
            "text/plain": [
              "'https://jovian.ai/shalinvachheta42/ipl-matches-from-2008-to-2019-sln'"
            ]
          },
          "execution_count": 105,
          "metadata": {},
          "output_type": "execute_result"
        }
      ],
      "source": [
        "jovian.commit()"
      ]
    },
    {
      "cell_type": "markdown",
      "metadata": {
        "id": "8X9Hk1B-gL8_"
      },
      "source": [
        "\n",
        "## Exploratory Analysis and Visualization\n",
        "\n",
        "TODO - in this section I have explore some interesting insights and visualize it with diffrent types of plots\n",
        "\n"
      ]
    },
    {
      "cell_type": "markdown",
      "metadata": {
        "id": "hA_KfTC_gL8_"
      },
      "source": [
        "###  lets know how many team chose same decision after winning the coin"
      ]
    },
    {
      "cell_type": "code",
      "execution_count": null,
      "metadata": {
        "id": "w91n0RqwgL8_",
        "outputId": "35e18680-f13f-4247-d3b9-429619613bbc"
      },
      "outputs": [
        {
          "name": "stdout",
          "output_type": "stream",
          "text": [
            "Total teams chose first fielding after win the toss are  463.\n",
            "Total teams chose first batting after win the toss are  293.\n",
            "Hence, \n",
            "Teams chose more first fielding .\n",
            "first bowl\n"
          ]
        }
      ],
      "source": [
        "fielding_team = ipl_df['toss_decision'].str.count('field').sum()\n",
        "print( 'Total teams chose first fielding after win the toss are  {}.' .format (fielding_team))\n",
        "\n",
        "Batting_team =ipl_df['toss_decision'].str.count('bat').sum()\n",
        "print( 'Total teams chose first batting after win the toss are  {}.' .format (Batting_team))\n",
        "\n",
        "if Batting_team > fielding_team:\n",
        "    print (\" Hence, Teams chose more first Batting .\")\n",
        "    print('first  bat')\n",
        "else:\n",
        "    print(\"Hence, \\nTeams chose more first fielding .\")\n",
        "    print('first bowl')"
      ]
    },
    {
      "cell_type": "markdown",
      "metadata": {
        "id": "8_OQG6LPgL9A"
      },
      "source": [
        "####  q1.1 let see how many times toss winner team won the match"
      ]
    },
    {
      "cell_type": "code",
      "execution_count": null,
      "metadata": {
        "id": "HsfPhD7zgL9A",
        "outputId": "1dbdab63-41ad-44b6-9f06-42880ebcd454"
      },
      "outputs": [
        {
          "data": {
            "text/plain": [
              "393"
            ]
          },
          "execution_count": 107,
          "metadata": {},
          "output_type": "execute_result"
        }
      ],
      "source": [
        "tng_winner =len(ipl_df[ipl_df.toss_winner == ipl_df.winner])\n",
        "tng_winner"
      ]
    },
    {
      "cell_type": "code",
      "execution_count": null,
      "metadata": {
        "id": "HKi_hXC5gL9A",
        "outputId": "5c71135e-4e34-40e1-e589-1640f5083003"
      },
      "outputs": [
        {
          "name": "stdout",
          "output_type": "stream",
          "text": [
            "Total time when team 1 won the toss is 335\n",
            "Chances of team 1 wiining the game is 44.31% \n",
            "Total time when team 2 won the toss is 417\n",
            "Chances of team 2 wiining the game is 55.16% \n"
          ]
        }
      ],
      "source": [
        "team_1_toss_winner = ipl_df[ipl_df.team1 == ipl_df.winner]\n",
        "\n",
        "print(\"Total time when team 1 won the toss is {}\" .format(len(team_1_toss_winner)))\n",
        "print(\"Chances of team 1 wiining the game is {:.2f}% \".format(len(team_1_toss_winner)*100/756) )\n",
        "\n",
        "team_2_toss_winner = ipl_df[ipl_df.team2 == ipl_df.winner]\n",
        "\n",
        "print(\"Total time when team 2 won the toss is {}\" .format(len(team_2_toss_winner)))\n",
        "print(\"Chances of team 2 wiining the game is {:.2f}% \".format(len(team_2_toss_winner)*100/756) )\n",
        "\n"
      ]
    },
    {
      "cell_type": "code",
      "execution_count": null,
      "metadata": {
        "id": "Ahk0brBVgL9A",
        "outputId": "3b518b96-829b-4f73-afae-a870c1c83342"
      },
      "outputs": [
        {
          "data": {
            "image/png": "[encoded data removed]",
            "text/plain": [
              "<Figure size 648x360 with 1 Axes>"
            ]
          },
          "metadata": {},
          "output_type": "display_data"
        }
      ],
      "source": [
        "toss_winner = [len(team_1_toss_winner),len(team_2_toss_winner) ]\n",
        "myexplode = [0.1, 0]\n",
        "label = ['team_1_toss_winner','team_2_toss_winner']\n",
        "\n",
        "plt.pie(toss_winner,labels = label,explode = myexplode,shadow = True);"
      ]
    },
    {
      "cell_type": "markdown",
      "metadata": {
        "id": "2xZ4UQcvgL9B"
      },
      "source": [
        "###  lets know how many matches played in each year"
      ]
    },
    {
      "cell_type": "code",
      "execution_count": null,
      "metadata": {
        "id": "EB5Y4PlZgL9B",
        "outputId": "17b8f64b-39ff-4f93-fe54-d925c4b0a140"
      },
      "outputs": [
        {
          "data": {
            "text/plain": [
              "2013    76\n",
              "2012    74\n",
              "2011    73\n",
              "2010    60\n",
              "2014    60\n",
              "2016    60\n",
              "2018    60\n",
              "2019    60\n",
              "2017    59\n",
              "2015    59\n",
              "2008    58\n",
              "2009    57\n",
              "Name: season, dtype: int64"
            ]
          },
          "execution_count": 110,
          "metadata": {},
          "output_type": "execute_result"
        }
      ],
      "source": [
        "total_matches_played_each_year =ipl_df.season.value_counts().sort_values(ascending = False)  # ek graph aano\n",
        "total_matches_played_each_year"
      ]
    },
    {
      "cell_type": "code",
      "execution_count": null,
      "metadata": {
        "id": "QNae25ifgL9B",
        "outputId": "8acf4413-6344-4b21-e529-deacaccd2923"
      },
      "outputs": [
        {
          "data": {
            "image/png": "[encoded data removed]",
            "text/plain": [
              "<Figure size 864x432 with 1 Axes>"
            ]
          },
          "metadata": {
            "needs_background": "light"
          },
          "output_type": "display_data"
        }
      ],
      "source": [
        "\n",
        "total_matches_played_each_year.plot(kind = \"bar\",width = .5,color = \"#4CAF50\")\n",
        "\n",
        "total_matches_played_each_year.plot(xlabel='Years', ylabel='Matches', title='total matches played each year')\n",
        "total_matches_played_each_year.plot(figsize=(12, 6));"
      ]
    },
    {
      "cell_type": "markdown",
      "metadata": {
        "id": "o1GEWjCsgL9B"
      },
      "source": [
        "#### q2.1 Let's see how many matches has been tied"
      ]
    },
    {
      "cell_type": "code",
      "execution_count": null,
      "metadata": {
        "id": "8Ji9orfzgL9C",
        "outputId": "87b9bd0e-5de2-4253-8f09-eed5a1005c67"
      },
      "outputs": [
        {
          "name": "stdout",
          "output_type": "stream",
          "text": [
            "4 matches are tied in total 756 cricket matches.\n"
          ]
        }
      ],
      "source": [
        "tied_matches =ipl_df.winner.isna().sum()\n",
        "\n",
        "print('{} matches are tied in total {} cricket matches.'.format(tied_matches,total_matches))"
      ]
    },
    {
      "cell_type": "markdown",
      "metadata": {
        "id": "B5z_gpvvgL9C"
      },
      "source": [
        "### know how many teams won the matches"
      ]
    },
    {
      "cell_type": "code",
      "execution_count": null,
      "metadata": {
        "id": "qsAFM4sRgL9C",
        "outputId": "4d9641df-5cf6-4ffa-9764-4f24f0eb8ff1"
      },
      "outputs": [
        {
          "name": "stdout",
          "output_type": "stream",
          "text": [
            "[58, 109, 13, 15, 84, 92, 67, 82, 100, 75, 29, 6, 12, 5, 10]\n"
          ]
        },
        {
          "data": {
            "image/png": "[encoded data removed]",
            "text/plain": [
              "<Figure size 648x360 with 1 Axes>"
            ]
          },
          "metadata": {
            "needs_background": "light"
          },
          "output_type": "display_data"
        }
      ],
      "source": [
        "winning_team = []\n",
        "for team1 in total_teams:\n",
        "    winning_teams=ipl_df.winner.str.count(team1).sum()\n",
        "    winning_team.append(int(winning_teams))\n",
        "print(winning_team)\n",
        "\n",
        "winning_team_series = pd.Series(winning_team)\n",
        "\n",
        "plt.plot(winning_team_series,ls = 'dashed',linewidth = '3',marker='o', color = 'r');\n"
      ]
    },
    {
      "cell_type": "code",
      "execution_count": null,
      "metadata": {
        "id": "QC_Q7RwrgL9D",
        "outputId": "77f2d17e-8256-4a79-d3b9-e54b09f530cb"
      },
      "outputs": [
        {
          "data": {
            "text/plain": [
              "58.0"
            ]
          },
          "execution_count": 114,
          "metadata": {},
          "output_type": "execute_result"
        }
      ],
      "source": [
        "#q3.1\n",
        "#can be counted as below for A TEAM\n",
        "Sunrisers_Hyderabad = ipl_df.winner.str.count(\"Sunrisers Hyderabad\").sum()\n",
        "Sunrisers_Hyderabad"
      ]
    },
    {
      "cell_type": "code",
      "execution_count": null,
      "metadata": {
        "id": "b68nxZj4gL9D",
        "outputId": "d01fb5bf-dc8c-41e4-f9da-80bcefb3bf8f"
      },
      "outputs": [
        {
          "data": {
            "text/plain": [
              "0             Sunrisers Hyderabad\n",
              "1                  Mumbai Indians\n",
              "2                   Gujarat Lions\n",
              "3          Rising Pune Supergiant\n",
              "4     Royal Challengers Bangalore\n",
              "5           Kolkata Knight Riders\n",
              "6                Delhi Daredevils\n",
              "7                 Kings XI Punjab\n",
              "8             Chennai Super Kings\n",
              "9                Rajasthan Royals\n",
              "10                Deccan Chargers\n",
              "11           Kochi Tuskers Kerala\n",
              "12                  Pune Warriors\n",
              "13        Rising Pune Supergiants\n",
              "14                 Delhi Capitals\n",
              "dtype: object"
            ]
          },
          "execution_count": 115,
          "metadata": {},
          "output_type": "execute_result"
        }
      ],
      "source": [
        "total_team =pd.Series(total_teams)\n",
        "total_team\n"
      ]
    },
    {
      "cell_type": "code",
      "execution_count": null,
      "metadata": {
        "id": "oM2fC1E9gL9D",
        "outputId": "e0d834fd-8d98-4802-e613-e3966abf865b"
      },
      "outputs": [
        {
          "data": {
            "text/plain": [
              "0       SH\n",
              "1       MI\n",
              "2       GL\n",
              "3      RPS\n",
              "4      RCB\n",
              "5      KKR\n",
              "6       DD\n",
              "7     KIXP\n",
              "8      CSK\n",
              "9       RR\n",
              "10      DC\n",
              "11     KTK\n",
              "12      PW\n",
              "13     RPS\n",
              "14      DC\n",
              "dtype: object"
            ]
          },
          "execution_count": 116,
          "metadata": {},
          "output_type": "execute_result"
        }
      ],
      "source": [
        "\n",
        "short_s = pd.Series([\"SH\" , \"MI\" , \"GL\" , \"RPS\" , \"RCB\" , \"KKR\" , \"DD\" , \"KIXP\" , \"CSK\", \"RR\" , \"DC\" , \"KTK\" , \"PW\", \"RPS\" , \"DC\"])\n",
        "short_s"
      ]
    },
    {
      "cell_type": "code",
      "execution_count": null,
      "metadata": {
        "id": "yhAaVsFNgL9E",
        "outputId": "404aae6e-4fa4-42c3-8f46-c51049eefc1b"
      },
      "outputs": [
        {
          "data": {
            "text/html": [
              "<div>\n",
              "<style scoped>\n",
              "    .dataframe tbody tr th:only-of-type {\n",
              "        vertical-align: middle;\n",
              "    }\n",
              "\n",
              "    .dataframe tbody tr th {\n",
              "        vertical-align: top;\n",
              "    }\n",
              "\n",
              "    .dataframe thead th {\n",
              "        text-align: right;\n",
              "    }\n",
              "</style>\n",
              "<table border=\"1\" class=\"dataframe\">\n",
              "  <thead>\n",
              "    <tr style=\"text-align: right;\">\n",
              "      <th></th>\n",
              "      <th>0</th>\n",
              "      <th>1</th>\n",
              "      <th>2</th>\n",
              "    </tr>\n",
              "  </thead>\n",
              "  <tbody>\n",
              "    <tr>\n",
              "      <th>0</th>\n",
              "      <td>58</td>\n",
              "      <td>SH</td>\n",
              "      <td>Sunrisers Hyderabad</td>\n",
              "    </tr>\n",
              "    <tr>\n",
              "      <th>1</th>\n",
              "      <td>109</td>\n",
              "      <td>MI</td>\n",
              "      <td>Mumbai Indians</td>\n",
              "    </tr>\n",
              "    <tr>\n",
              "      <th>2</th>\n",
              "      <td>13</td>\n",
              "      <td>GL</td>\n",
              "      <td>Gujarat Lions</td>\n",
              "    </tr>\n",
              "  </tbody>\n",
              "</table>\n",
              "</div>"
            ],
            "text/plain": [
              "     0   1                    2\n",
              "0   58  SH  Sunrisers Hyderabad\n",
              "1  109  MI       Mumbai Indians\n",
              "2   13  GL        Gujarat Lions"
            ]
          },
          "execution_count": 117,
          "metadata": {},
          "output_type": "execute_result"
        }
      ],
      "source": [
        "WINNING_TEAMS= pd.concat([winning_team_series,short_s,total_team] ,axis =1)\n",
        "WINNING_TEAMS.head(3)\n"
      ]
    },
    {
      "cell_type": "code",
      "execution_count": null,
      "metadata": {
        "id": "e5D-xXBYgL9E",
        "outputId": "085a6539-907b-473e-cc3b-0eedb20bee15"
      },
      "outputs": [
        {
          "data": {
            "text/plain": [
              "[]"
            ]
          },
          "execution_count": 118,
          "metadata": {},
          "output_type": "execute_result"
        },
        {
          "data": {
            "image/png": "[encoded data removed]",
            "text/plain": [
              "<Figure size 648x360 with 1 Axes>"
            ]
          },
          "metadata": {
            "needs_background": "light"
          },
          "output_type": "display_data"
        }
      ],
      "source": [
        "\n",
        "plt.bar(short_s,winning_team_series,width = .5);\n",
        "plt.plot(winning_team_series,ls = 'dashed',linewidth = '2',marker='s', color = 'g');\n",
        "plt.plot(figsize=(14,10))\n"
      ]
    },
    {
      "cell_type": "markdown",
      "metadata": {
        "id": "CXftww7GgL9E"
      },
      "source": [
        "### Top 5 player of the match thorugh-out the ipl seasons  "
      ]
    },
    {
      "cell_type": "code",
      "execution_count": null,
      "metadata": {
        "scrolled": true,
        "id": "ComZ80kcgL9E",
        "outputId": "fd709551-e81b-4bbc-cdfd-4b1343ab018f"
      },
      "outputs": [
        {
          "data": {
            "text/plain": [
              "CH Gayle          21\n",
              "AB de Villiers    20\n",
              "RG Sharma         17\n",
              "MS Dhoni          17\n",
              "DA Warner         17\n",
              "                  ..\n",
              "PD Collingwood     1\n",
              "NV Ojha            1\n",
              "AC Voges           1\n",
              "J Theron           1\n",
              "S Hetmyer          1\n",
              "Name: player_of_match, Length: 226, dtype: int64"
            ]
          },
          "execution_count": 119,
          "metadata": {},
          "output_type": "execute_result"
        }
      ],
      "source": [
        "#Top 5 player of the mtch till 2019 from 2008\n",
        "top_5_POM =ipl_df.player_of_match.value_counts().head(5)\n",
        "top_5_POM\n",
        "# gayleeeee....275;-)\n",
        "ipl_df.player_of_match.value_counts()"
      ]
    },
    {
      "cell_type": "code",
      "execution_count": null,
      "metadata": {
        "scrolled": true,
        "id": "9WQHHP_ygL9F",
        "outputId": "a7d776e7-2ce4-47ed-c5a9-a4839415e2ff"
      },
      "outputs": [
        {
          "data": {
            "image/png": "[encoded data removed]",
            "text/plain": [
              "<Figure size 936x504 with 1 Axes>"
            ]
          },
          "metadata": {
            "needs_background": "light"
          },
          "output_type": "display_data"
        }
      ],
      "source": [
        "\n",
        "plt.figure(figsize=(13, 7))\n",
        "\n",
        "plt.plot(top_5_POM)\n",
        "plt.show()\n"
      ]
    },
    {
      "cell_type": "markdown",
      "metadata": {
        "id": "5KcefkhpgL9F"
      },
      "source": [
        "### most matches played in a vanue"
      ]
    },
    {
      "cell_type": "code",
      "execution_count": null,
      "metadata": {
        "id": "dJSMm9IwgL9F",
        "outputId": "605b2c96-340d-48df-a254-70130e8ac001"
      },
      "outputs": [
        {
          "data": {
            "text/plain": [
              "Eden Gardens                                 77\n",
              "M Chinnaswamy Stadium                        73\n",
              "Wankhede Stadium                             73\n",
              "Feroz Shah Kotla                             67\n",
              "Rajiv Gandhi International Stadium, Uppal    56\n",
              "Name: venue, dtype: int64"
            ]
          },
          "execution_count": 121,
          "metadata": {},
          "output_type": "execute_result"
        }
      ],
      "source": [
        "stadium =ipl_df.venue.value_counts().head(5)\n",
        "stadium"
      ]
    },
    {
      "cell_type": "code",
      "execution_count": null,
      "metadata": {
        "id": "uz1wr1-ygL9F",
        "outputId": "468df636-788b-4dcd-f35d-fb1325f676b2"
      },
      "outputs": [
        {
          "data": {
            "image/png": "[encoded data removed]",
            "text/plain": [
              "<Figure size 648x360 with 1 Axes>"
            ]
          },
          "metadata": {},
          "output_type": "display_data"
        }
      ],
      "source": [
        "\n",
        "mylabels = [\"Eden Gardens\", \"M Chinnaswamy Stadium\", \"Wankhede Stadium \", \"Feroz Shah Kotla\",\"Rajiv Gandhi International Stadium, Uppal \"]\n",
        "mycolors = [\"orange\", \"hotpink\", \"b\", \"#4CAF50\", 'Red']\n",
        "plt.pie(stadium,labels = mylabels,colors = mycolors,shadow = True);\n",
        "#plt.legend();"
      ]
    },
    {
      "cell_type": "markdown",
      "metadata": {
        "id": "CYZDntgPgL9G"
      },
      "source": [
        " **Hence,mostly matches are played in  Eden garden staduim\n",
        " fun fact = most final matches were held in  Eden garden KLolkata staduim**"
      ]
    },
    {
      "cell_type": "markdown",
      "metadata": {
        "id": "ipbxCMw8gL9G"
      },
      "source": [
        "Let us save and upload our work to Jovian before continuing."
      ]
    },
    {
      "cell_type": "code",
      "execution_count": null,
      "metadata": {
        "id": "pjeKf-1YgL9G"
      },
      "outputs": [],
      "source": [
        "import jovian"
      ]
    },
    {
      "cell_type": "code",
      "execution_count": null,
      "metadata": {
        "id": "gJdNkil7gL9G",
        "outputId": "e342fd62-ad8f-432e-a802-e4fe6bb2d38b"
      },
      "outputs": [
        {
          "data": {
            "application/javascript": [
              "window.require && require([\"base/js/namespace\"],function(Jupyter){Jupyter.notebook.save_checkpoint()})"
            ],
            "text/plain": [
              "<IPython.core.display.Javascript object>"
            ]
          },
          "metadata": {},
          "output_type": "display_data"
        },
        {
          "name": "stdout",
          "output_type": "stream",
          "text": [
            "[jovian] Updating notebook \"shalinvachheta42/ipl-matches-from-2008-to-2019-sln\" on https://jovian.ai\u001b[0m\n",
            "[jovian] Committed successfully! https://jovian.ai/shalinvachheta42/ipl-matches-from-2008-to-2019-sln\u001b[0m\n"
          ]
        },
        {
          "data": {
            "text/plain": [
              "'https://jovian.ai/shalinvachheta42/ipl-matches-from-2008-to-2019-sln'"
            ]
          },
          "execution_count": 124,
          "metadata": {},
          "output_type": "execute_result"
        }
      ],
      "source": [
        "jovian.commit()"
      ]
    },
    {
      "cell_type": "markdown",
      "metadata": {
        "id": "5rRr0apggL9G"
      },
      "source": [
        "## Inferences and Conclusion\n",
        "\n",
        "So , in this project/dataset i tried to get all insights ,exploring data to deep level to know my some answers and visualize some area to get clear idea about that particular data/event."
      ]
    },
    {
      "cell_type": "code",
      "execution_count": null,
      "metadata": {
        "id": "WYOjBP-1gL9H"
      },
      "outputs": [],
      "source": [
        "import jovian"
      ]
    },
    {
      "cell_type": "code",
      "execution_count": null,
      "metadata": {
        "id": "He4KJMmhgL9H",
        "outputId": "9d080061-e24f-4970-ee4d-2d58ee7d7e58"
      },
      "outputs": [
        {
          "data": {
            "application/javascript": [
              "window.require && require([\"base/js/namespace\"],function(Jupyter){Jupyter.notebook.save_checkpoint()})"
            ],
            "text/plain": [
              "<IPython.core.display.Javascript object>"
            ]
          },
          "metadata": {},
          "output_type": "display_data"
        },
        {
          "name": "stdout",
          "output_type": "stream",
          "text": [
            "[jovian] Updating notebook \"shalinvachheta42/ipl-matches-from-2008-to-2019-sln\" on https://jovian.ai\u001b[0m\n",
            "[jovian] Committed successfully! https://jovian.ai/shalinvachheta42/ipl-matches-from-2008-to-2019-sln\u001b[0m\n"
          ]
        },
        {
          "data": {
            "text/plain": [
              "'https://jovian.ai/shalinvachheta42/ipl-matches-from-2008-to-2019-sln'"
            ]
          },
          "execution_count": 126,
          "metadata": {},
          "output_type": "execute_result"
        }
      ],
      "source": [
        "jovian.commit()"
      ]
    },
    {
      "cell_type": "markdown",
      "metadata": {
        "id": "ZOOOLau8gL9H"
      },
      "source": [
        "## References and Future Work\n"
      ]
    },
    {
      "cell_type": "code",
      "execution_count": null,
      "metadata": {
        "id": "umJ2tQYigL9I"
      },
      "outputs": [],
      "source": [
        "import jovian"
      ]
    },
    {
      "cell_type": "code",
      "execution_count": null,
      "metadata": {
        "scrolled": true,
        "id": "CQKvDO9IgL9I",
        "outputId": "ea95edc0-ba7b-4aa7-8cd6-5fb2bcf69279"
      },
      "outputs": [
        {
          "data": {
            "application/javascript": [
              "window.require && require([\"base/js/namespace\"],function(Jupyter){Jupyter.notebook.save_checkpoint()})"
            ],
            "text/plain": [
              "<IPython.core.display.Javascript object>"
            ]
          },
          "metadata": {},
          "output_type": "display_data"
        }
      ],
      "source": [
        "jovian.commit()"
      ]
    }
  ],
  "metadata": {
    "kernelspec": {
      "display_name": "Python 3 (ipykernel)",
      "language": "python",
      "name": "python3"
    },
    "language_info": {
      "codemirror_mode": {
        "name": "ipython",
        "version": 3
      },
      "file_extension": ".py",
      "mimetype": "text/x-python",
      "name": "python",
      "nbconvert_exporter": "python",
      "pygments_lexer": "ipython3",
      "version": "3.9.6"
    },
    "colab": {
      "provenance": []
    }
  },
  "nbformat": 4,
  "nbformat_minor": 0
}